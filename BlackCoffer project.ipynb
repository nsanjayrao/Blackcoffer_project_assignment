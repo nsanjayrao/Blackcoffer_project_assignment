{
 "cells": [
  {
   "cell_type": "markdown",
   "id": "69f027f9",
   "metadata": {},
   "source": [
    "<img src=\"https://insights.blackcoffer.com/wp-content/uploads/2018/12/Insights-blackv02.png\" width=\"240\" height=\"360\" />\n",
    "\n",
    "\n",
    "\n",
    "\n",
    "\n",
    "\n"
   ]
  },
  {
   "cell_type": "markdown",
   "id": "3bd5d1cd",
   "metadata": {},
   "source": [
    "\n",
    "## Data Extraction and NLP - Test Assignment"
   ]
  },
  {
   "cell_type": "markdown",
   "id": "0c3b4c36",
   "metadata": {},
   "source": [
    "## Table of Contents\n",
    "\n",
    "1. [Problem Statement](#section1)<br>\n",
    "2. [Import the required libraries](#section2)<br>\n",
    "3. [Load the data and initialize variables](#section3)<br>\n",
    "4. [Define a function to count syllables in a word](#section4)<br>\n",
    "5. [Loop through the list of URLs:](#section5)<br>\n",
    "    - [Retrieve the webpage content](#section5.1)<br>\n",
    "    - [Extract the main content from the webpage](#section5.2)<br>\n",
    "    - [Tokenize the text and perform analysis:](#section5.3)<br>\n",
    "        - [Save the extracted article to a text file](#section5.3.1)<br>\n",
    "        - [Filter the tokens by removing stop words and punctuation](#section5.3.2)<br>\n",
    "        - [Calculate the positive and negative word counts](#section5.3.3)<br>\n",
    "        - [Calculate the polarity and subjectivity scores](#section5.3.4)<br>\n",
    "        - [Perform readability analysis:](#section5.3.5)<br>\n",
    "            -[ Count the number of words and sentences](#section5.3.5.1)<br>\n",
    "            - [Calculate the average words per sentence](#section5.3.5.2)<br>\n",
    "            - [Count syllables and complex words](#section5.3.5.2)<br>\n",
    "            - [Calculate the percentage of complex words and fog index](#section5.3.5.2)<br>\n",
    "        - [Count personal pronouns](#section5.3.5.2)<br>\n",
    "        - [Calculate average word length](#section5.3.5.2)<br>\n",
    "    - [Write the analyzed data to a CSV file](#section5.3.5.2)<br>\n",
    "6. [Display the results](#section6)<br>\n"
   ]
  },
  {
   "cell_type": "markdown",
   "id": "4faf0d25",
   "metadata": {},
   "source": [
    "### 1. Problem Statement <a id='section1'></a>\n",
    "\n",
    "The goal of this test assignment is to perform data extraction and Natural Language Processing (NLP) analysis on a given URLs. The extracted data will be used to calculate various metrics related to sentiment analysis, Analysis of Readability, and linguistic features.\n",
    "\n",
    "The steps involved in the assignment are as follows:\n",
    "\n",
    "1. Data Extraction: The script will retrieve the content of each URL in the provided list. The main content of the webpage will be extracted using BeautifulSoup and stored in text files for further analysis.\n",
    "\n",
    "2. NLP Analysis: The extracted text will undergo NLP analysis to extract meaningful insights. The analysis will include the following:\n",
    "\n",
    "   - Sentiment Analysis: Positive and negative words will be counted to calculate the positive and negative scores. The polarity score and subjectivity score will be calculated based on the counts.\n",
    "   \n",
    "   - Readability Analysis: The text will be analyzed for readability using metrics such as average sentence length, percentage of complex words, FOG index, average number of words per sentence, and syllable count per word.\n",
    "   \n",
    "   - Linguistic Features: The presence of personal pronouns (I, we, my, ours) will be counted to determine the frequency of their usage in the text. The average word length will also be calculated.\n",
    "   \n",
    "3. Data Storage: The calculated metrics will be stored in a CSV file named \"BlackCoffer.csv\". \n",
    "The assignment aims to provide valuable insights into the sentiment, readability, and linguistic features of the extracted text from the given URLs."
   ]
  },
  {
   "cell_type": "markdown",
   "id": "637362f0",
   "metadata": {},
   "source": [
    "### 2. Importing Libraries <a id='section2'></a>\n",
    "\n",
    "To perform the text analysis, we need to import the necessary libraries. These libraries provide various functions and tools for text preprocessing, sentiment analysis, readability analysis, and more. The following libraries are used in this analysis:\n",
    "\n",
    "- **string**: This library provides a set of string constants and helper functions for string operations. We use it to handle punctuation removal.\n",
    "- **requests**: This library allows us to send HTTP requests and retrieve the content of web pages. We use it to fetch the text data from URLs.\n",
    "- **re**: The **re** module provides support for regular expressions, which are useful for pattern matching and text manipulation. We use it to extract specific words from the text.\n",
    "- **BeautifulSoup**: This library is used for web scraping and parsing HTML or XML documents. We use it to extract the article text content from web pages.\n",
    "- **nltk**: The Natural Language Toolkit (NLTK) is a popular library for natural language processing tasks. It provides various tools and resources for text analysis, including tokenization, stop word removal, and more. We download the required resources using the **nltk.download** function.\n"
   ]
  },
  {
   "cell_type": "code",
   "execution_count": 39,
   "id": "f0d4c5c6",
   "metadata": {},
   "outputs": [
    {
     "name": "stderr",
     "output_type": "stream",
     "text": [
      "[nltk_data] Downloading package stopwords to C:\\Users\\N Sanjay\n",
      "[nltk_data]     Rao\\AppData\\Roaming\\nltk_data...\n",
      "[nltk_data]   Package stopwords is already up-to-date!\n",
      "[nltk_data] Downloading package punkt to C:\\Users\\N Sanjay\n",
      "[nltk_data]     Rao\\AppData\\Roaming\\nltk_data...\n",
      "[nltk_data]   Package punkt is already up-to-date!\n"
     ]
    },
    {
     "data": {
      "text/plain": [
       "True"
      ]
     },
     "execution_count": 39,
     "metadata": {},
     "output_type": "execute_result"
    }
   ],
   "source": [
    "import string\n",
    "import requests\n",
    "import re\n",
    "from bs4 import BeautifulSoup\n",
    "import nltk\n",
    "from nltk.tokenize import word_tokenize, sent_tokenize\n",
    "from nltk.corpus import stopwords\n",
    "import nltk\n",
    "nltk.download('stopwords')\n",
    "nltk.download('punkt')"
   ]
  },
  {
   "cell_type": "markdown",
   "id": "d2a781d6",
   "metadata": {},
   "source": [
    "### 3. Load Data and Initialize Variables <a id='section3'></a>\n",
    "\n",
    "To perform sentiment analysis, we need to load two word lists: positive words and negative words. Additionally, we also initialize variables for storing analysis results.\n",
    "\n",
    "The following steps outline the process:\n",
    "\n",
    "- Initialize two sets: **positive_words** and **negative_words**.\n",
    "- Read the positive word list from the file **positive-words.txt** and store the words in the **positive_words** set.\n",
    "- Read the negative word list from the file **negative-words.txt** and store the words in the **negative_words** set.\n",
    "- Define a list of stop words files that contain common words to be excluded from the analysis.\n",
    "- Initialize an empty set called **stop_words**.\n",
    "- Iterate over each stop words file in the **stop_words_files** list and read the words from each file into the **stop_words** set using the **update()** function.\n",
    "- Import the **csv** module to handle CSV file operations.\n",
    "- Define the header row for the output CSV file, which includes the column names for various analysis metrics.\n",
    "- Open the output CSV file named **BlackCoffer.csv** in write mode, and use the **csv.writer()** function to create a writer object.\n",
    "- Write the header row to the CSV file using the **writerow()** function.\n",
    "- Import the **pandas** library to read the input data from an Excel file.\n",
    "- Read the input data from the Excel file **input.xlsx** into a pandas DataFrame called **df**.\n",
    "- Extract the URLs column from the DataFrame and convert it into a Python list called **urls** for further processing.\n"
   ]
  },
  {
   "cell_type": "code",
   "execution_count": 40,
   "id": "39f1f734",
   "metadata": {},
   "outputs": [],
   "source": [
    "positive_words =set()\n",
    "\n",
    "negative_words =set()\n",
    "\n",
    "\n",
    "with open('positive-words.txt','r') as f:\n",
    "    positive_words = set(f.read().splitlines())\n",
    "    \n",
    "with open('negative-words.txt','r') as f:\n",
    "    negative_words = set(f.read().splitlines())\n",
    "    \n",
    "    \n",
    "stop_words_files = [\n",
    "    'StopWords_Auditor.txt',\n",
    "    'StopWords_Currencies.txt',\n",
    "    'StopWords_DatesandNumbers.txt',\n",
    "    'StopWords_Generic.txt',\n",
    "    'StopWords_GenericLong.txt',\n",
    "    'StopWords_Geographic.txt',\n",
    "    'StopWords_Names.txt'\n",
    "]\n",
    "\n",
    "stop_words = set()\n",
    "\n",
    "for file in stop_words_files:\n",
    "    with open(file,'r') as f:\n",
    "        stop_words.update(f.read().splitlines())\n",
    "\n",
    "import csv\n",
    "\n",
    "header = ['URL_ID', 'URL', 'POSITIVE SCORE', 'NEGATIVE SCORE', 'POLARITY SCORE', 'SUBJECTIVITY SCORE', 'AVG SENTENCE LENGTH', 'PERCENTAGE OF COMPLEX WORDS', 'FOG INDEX', 'AVG NUMBER OF WORDS PER SENTENCE', 'COMPLEX WORD COUNT', 'WORD COUNT', 'SYLLABLE PER WORD', 'PERSONAL PRONOUNS', 'AVG WORD LENGTH']\n",
    "\n",
    "with open(\"BlackCoffer.csv\",'w',newline='', encoding='UTF8') as f:\n",
    "    writer = csv.writer(f)\n",
    "    writer.writerow(header)\n",
    "\n",
    "\n",
    "import pandas as pd\n",
    "\n",
    "df = pd.read_excel('input.xlsx')\n",
    "\n",
    "urls = df['URL'].tolist()        "
   ]
  },
  {
   "cell_type": "markdown",
   "id": "688a1419",
   "metadata": {},
   "source": [
    "## 4. Define a function to count syllables in a word <a id ='section4'></a>"
   ]
  },
  {
   "cell_type": "markdown",
   "id": "a188baa4",
   "metadata": {},
   "source": [
    "- we define a function called count_syllables that takes a word as input and returns the number of syllables present in that word.\n",
    "\n",
    "- To begin counting syllables, we need to understand the concept of vowels. In the English language, vowels are the sounds we make when we pronounce certain letters like 'a', 'e', 'i', 'o', 'u', and sometimes 'y'. We store these vowels in a variable called vowels.\n",
    "\n",
    "- Now, let's break down the steps involved in counting syllables:\n",
    "\n",
    "- We start by preparing the word for analysis. We convert it to lowercase using the lower() method and remove any punctuation marks from the beginning or end of the word using the strip() method. This ensures consistency and accuracy in our syllable counting process.\n",
    "\n",
    "- We check if the word is empty. If it is, meaning it has no characters, we return 0 as there are no syllables to count.\n",
    "\n",
    "- If the word starts with a vowel, we add a hyphen ('-') at the beginning. This helps us handle cases where words begin with a vowel sound, such as 'apple' or 'elephant', ensuring that we count the syllables correctly.\n",
    "\n",
    "- Now, we initialize a variable called count to keep track of the syllable count.\n",
    "\n",
    "- We loop through each character of the word, starting from the second character. We compare the current character and the previous character to determine syllable boundaries. If neither the current character nor the previous character is a vowel, we increment the count by 1 because it indicates the start of a new syllable.\n",
    "\n",
    "- We check if the word ends with the letter 'e'. In many cases, the 'e' at the end of a word is silent and doesn't contribute to the syllable count. If we find an 'e' at the end, we decrement the count by 1.\n",
    "\n",
    "- There's a special case when the word ends with 'le' preceded by a consonant. For example, in the word 'table', the 'le' is pronounced as a separate syllable. So, we check if the word ends with 'le' and the character before 'le' is a consonant. If these conditions are met, we increment the count by 1.\n",
    "\n",
    "- Some word endings, like 'es' or 'ed', are often pronounced without adding an extra syllable. We check if the word ends with 'es' or 'ed' and, if so, we decrement the count by 1.\n",
    "\n",
    "- If, after following the above rules, we find that no syllables have been counted (the count is still 0), we assume that there is at least one syllable in the word.\n",
    "\n",
    "- Finally, we return the count, which represents the estimated syllable count of the word.\n"
   ]
  },
  {
   "cell_type": "code",
   "execution_count": 41,
   "id": "52787eb0",
   "metadata": {},
   "outputs": [],
   "source": [
    "import string\n",
    "\n",
    "def count_syllables(word):\n",
    "    vowels = 'aeiouy'\n",
    "    \n",
    "    word = word.lower().strip(string.punctuation)\n",
    "    \n",
    "    if len(word) == 0:\n",
    "        return 0\n",
    "    \n",
    "    if word[0] in vowels:\n",
    "        word = '-' + word\n",
    "        \n",
    "    count = 0\n",
    "    for index in range(1, len(word)):\n",
    "        if word[index] and word[index-1] not in vowels:\n",
    "            count += 1\n",
    "            \n",
    "    if word.endswith('e'):\n",
    "        count -= 1\n",
    "        \n",
    "    if word.endswith('le') and len(word) > 2 and word[-3] not in vowels:\n",
    "        count += 1\n",
    "        \n",
    "    if word.endswith(('es', 'ed')):\n",
    "        count -= 1\n",
    "        \n",
    "    if count == 0:\n",
    "        count = 1\n",
    "        \n",
    "    return count"
   ]
  },
  {
   "cell_type": "markdown",
   "id": "e019bd7f",
   "metadata": {},
   "source": [
    "## 5. Loop through the list of URLs: <a id='section5'></a>"
   ]
  },
  {
   "cell_type": "markdown",
   "id": "f1e3b2c5",
   "metadata": {},
   "source": [
    "### Retrieve the webpage content:<a id =setion5.1></a>\n",
    "This step involves sending a request to the specified URL using the <requests.get() method. The response object contains the content of the webpage:\n",
    "- We start by setting an initial value for the url_id variable, which represents an identification number for each URL. As given format in the 'Output Data Structure.xlsx' file the url_id is set to 37.\n",
    "\n",
    "- We use a for loop to iterate through each URL in the urls list.\n",
    "\n",
    "- For each URL, we use the requests.get() function to send an HTTP GET request and retrieve the webpage's content.\n"
   ]
  },
  {
   "cell_type": "markdown",
   "id": "97490ae2",
   "metadata": {},
   "source": [
    "### Extract the main content from the webpage: <a id =section5.2></a>\n",
    "\n",
    "- We check if the response status code is 200, which indicates a successful request.\n",
    "\n",
    "- If the response is successful, we create a BeautifulSoup object from the response content using the 'html.parser' parser.\n",
    "\n",
    "- We search for the main content of the webpage by finding a specific HTML element with the class name 'td-post-content'.If this element is not found, the code attempts to find the main content using a different class name or method.\n",
    "\n",
    "- If the main content is found, we extract the paragraphs (p-tag) within it and concatenate them into a single text variable"
   ]
  },
  {
   "cell_type": "markdown",
   "id": "bcafb938",
   "metadata": {},
   "source": [
    "### Tokenize the text and perform analysis: <a id =section5.3></a>\n",
    "\n",
    "- we tokenize the text into individual words using the word_tokenize() function. Tokenization is the process of breaking text into smaller units, such as words or sentences, for further analysis."
   ]
  },
  {
   "cell_type": "markdown",
   "id": "3d8192b5",
   "metadata": {},
   "source": [
    "### Save the extracted article to a text file: <a id =section5.3.1></a>\n",
    "- We save the extracted article text to a text file, using the url_id as the file name. This helps us keep track of the content associated with each URL."
   ]
  },
  {
   "cell_type": "markdown",
   "id": "c55bc747",
   "metadata": {},
   "source": [
    "### Filter the tokens by removing stop words and punctuation: <a id =section5.3.2></a>\n",
    "\n",
    "- After saving the text, we apply some filtering to the tokens. We remove any stop words (from stop_word set) and punctuation marks to focus on the meaningful words for analysis."
   ]
  },
  {
   "cell_type": "markdown",
   "id": "02b33f31",
   "metadata": {},
   "source": [
    "### Calculate the positive and negative word counts: <a id =section5.3.3></a>\n",
    "- We then count the number of positive and negative words in the filtered tokens by iterating through them and comparing against predefined lists of positive and negative words."
   ]
  },
  {
   "cell_type": "markdown",
   "id": "deb17859",
   "metadata": {},
   "source": [
    "### Calculate the polarity and subjectivity scores: <a id =section5.3.4></a>\n",
    "- Using the counts of positive and negative words, we calculate the polarity score, which represents the balance between positive and negative sentiment in the text, and the subjectivity score, which measures the overall subjectivity of the text."
   ]
  },
  {
   "cell_type": "markdown",
   "id": "775a0aa6",
   "metadata": {},
   "source": [
    "### Perform readability analysis:<a id =section5.3.5></a>\n",
    "- The code then performs readability analysis. It calculates the number of words, sentences, and average words per sentence. It also counts the number of syllables and complex words (words with more than two syllables).\n",
    "\n",
    "- With the obtained data, we calculate additional readability metrics such as the percentage of complex words and the fog index, which is a measure of text complexity."
   ]
  },
  {
   "cell_type": "markdown",
   "id": "ca234d70",
   "metadata": {},
   "source": [
    "### Count personal pronouns: <a id =section5.3.5.1></a>\n",
    "The regular expression pattern \\b(?:I|we|my|ours)\\b(?![a-z]) is used to count the occurrences of personal pronouns (e.g., I, we, my, ours) in the text.\n"
   ]
  },
  {
   "cell_type": "markdown",
   "id": "ca356962",
   "metadata": {},
   "source": [
    "<a id =section5.3.5.2></a>\n",
    "- We calculate the average word length by summing the lengths of all filtered tokens and dividing by the total number of words. We also calculate the average sentence length by dividing the total word length by the number of sentences.\n",
    "\n",
    "- Finally, we gather all the calculated data into a list called data and append it to a CSV file named \"BlackCoffer.csv\" using the csv.writer() function. This allows us to store the results for further analysis.\n",
    "\n",
    "- Lastly, we increment the url_id by 1 to ensure unique identification for each URL.\n",
    "\n",
    "- The code repeats this process for each URL in the urls list, extracting content, performing analysis, and saving the results to the CSV file."
   ]
  },
  {
   "cell_type": "code",
   "execution_count": 42,
   "id": "940e0b76",
   "metadata": {},
   "outputs": [],
   "source": [
    "url_id = 37\n",
    "for url in urls:\n",
    "    response = requests.get(url)\n",
    "    if response.status_code == 200:\n",
    "        soup = BeautifulSoup(response.content, 'html.parser')\n",
    "        \n",
    "        main_content = soup.find('div', class_='td-post-content')\n",
    "        if not main_content:\n",
    "                # Try finding main content using a different class name or method\n",
    "                main_content = soup.find('div', class_='td-post-content tagdiv-type')\n",
    "                # Add more conditions or methods as needed\n",
    "\n",
    "        if main_content:\n",
    "            paragraphs = main_content.find_all('p')\n",
    "\n",
    "            text = ''\n",
    "            for paragraph in paragraphs:\n",
    "                text += paragraph.get_text() + '\\n'\n",
    "\n",
    "            tokens = word_tokenize(text)\n",
    "   \n",
    "\n",
    "\n",
    "            # Save extracted article to a text file with URL_ID as the file name\n",
    "            file_name = f\"{url_id}.txt\"\n",
    "            with open(file_name, 'w', encoding='UTF8') as f:\n",
    "                f.write(text)\n",
    "\n",
    "\n",
    "\n",
    "            filtered_tokens = [token for token in tokens if token.lower() not in stop_words and token.lower() not in string.punctuation]\n",
    "            \n",
    "            positive_count = sum(1 for token in filtered_tokens if token.lower() in positive_words)\n",
    "            \n",
    "            negative_count = sum(1 for token in filtered_tokens if token.lower() in negative_words)\n",
    "            \n",
    "            polarity_score = (positive_count - negative_count)/(positive_count + negative_count + 0.000001) \n",
    "            \n",
    "            subjectivity_score = (positive_count + negative_count)/(len(filtered_tokens) + 0.000001)\n",
    "    \n",
    "            # Analysis of the readibility\n",
    "            sentences = sent_tokenize(text)\n",
    "            \n",
    "            word_count = len(filtered_tokens)\n",
    "            \n",
    "            sentence_count = len(sentences)\n",
    "            \n",
    "            avg_word_per_sentence = word_count/sentence_count\n",
    "    \n",
    "            syllable_count = 0\n",
    "            for token in filtered_tokens:\n",
    "                syllable_count += count_syllables(token)\n",
    "    \n",
    "    \n",
    "            complex_word_count = 0\n",
    "            for token in filtered_tokens:\n",
    "                if count_syllables(token) > 2:\n",
    "                    complex_word_count += 1\n",
    "    \n",
    "            percentage_complex_words = complex_word_count / word_count\n",
    "            \n",
    "            fog_index = (avg_word_per_sentence + percentage_complex_words)\n",
    "    \n",
    "            # personal pronouns\n",
    "            pronoun_count = len(re.findall(r\"\\b(?:I|we|my|ours)\\b(?![a-z])\", text, flags=re.IGNORECASE))\n",
    "            \n",
    "            # Average word length\n",
    "            total_word_length = sum(len(token) for token in filtered_tokens)\n",
    "            \n",
    "            average_word_length = total_word_length /word_count\n",
    "            \n",
    "            average_sentence_length = total_word_length / sentence_count\n",
    "    \n",
    "            data = [url_id, url, positive_count, negative_count, polarity_score, subjectivity_score, average_sentence_length, percentage_complex_words, fog_index, avg_word_per_sentence, complex_word_count, word_count, syllable_count, pronoun_count, average_word_length]\n",
    "            with open(\"BlackCoffer.csv\",'a+',newline='', encoding='UTF8') as f:\n",
    "                writer = csv.writer(f)\n",
    "                writer.writerow(data)\n",
    "            url_id +=1  "
   ]
  },
  {
   "cell_type": "markdown",
   "id": "8b8c84c2",
   "metadata": {},
   "source": [
    "### Display the results: <a id =section6></a>\n",
    "The read_csv() function reads the BlackCoffer.csv file and creates a DataFrame object named df. The head() function is used to display the first five rows of the DataFrame."
   ]
  },
  {
   "cell_type": "code",
   "execution_count": 43,
   "id": "09cf587b",
   "metadata": {},
   "outputs": [
    {
     "data": {
      "text/html": [
       "<div>\n",
       "<style scoped>\n",
       "    .dataframe tbody tr th:only-of-type {\n",
       "        vertical-align: middle;\n",
       "    }\n",
       "\n",
       "    .dataframe tbody tr th {\n",
       "        vertical-align: top;\n",
       "    }\n",
       "\n",
       "    .dataframe thead th {\n",
       "        text-align: right;\n",
       "    }\n",
       "</style>\n",
       "<table border=\"1\" class=\"dataframe\">\n",
       "  <thead>\n",
       "    <tr style=\"text-align: right;\">\n",
       "      <th></th>\n",
       "      <th>URL_ID</th>\n",
       "      <th>URL</th>\n",
       "      <th>POSITIVE SCORE</th>\n",
       "      <th>NEGATIVE SCORE</th>\n",
       "      <th>POLARITY SCORE</th>\n",
       "      <th>SUBJECTIVITY SCORE</th>\n",
       "      <th>AVG SENTENCE LENGTH</th>\n",
       "      <th>PERCENTAGE OF COMPLEX WORDS</th>\n",
       "      <th>FOG INDEX</th>\n",
       "      <th>AVG NUMBER OF WORDS PER SENTENCE</th>\n",
       "      <th>COMPLEX WORD COUNT</th>\n",
       "      <th>WORD COUNT</th>\n",
       "      <th>SYLLABLE PER WORD</th>\n",
       "      <th>PERSONAL PRONOUNS</th>\n",
       "      <th>AVG WORD LENGTH</th>\n",
       "    </tr>\n",
       "  </thead>\n",
       "  <tbody>\n",
       "    <tr>\n",
       "      <th>0</th>\n",
       "      <td>37</td>\n",
       "      <td>https://insights.blackcoffer.com/ai-in-healthc...</td>\n",
       "      <td>66</td>\n",
       "      <td>34</td>\n",
       "      <td>0.320000</td>\n",
       "      <td>0.096993</td>\n",
       "      <td>101.573333</td>\n",
       "      <td>0.745878</td>\n",
       "      <td>14.492544</td>\n",
       "      <td>13.746667</td>\n",
       "      <td>769</td>\n",
       "      <td>1031</td>\n",
       "      <td>3831</td>\n",
       "      <td>0</td>\n",
       "      <td>7.388943</td>\n",
       "    </tr>\n",
       "    <tr>\n",
       "      <th>1</th>\n",
       "      <td>38</td>\n",
       "      <td>https://insights.blackcoffer.com/what-if-the-c...</td>\n",
       "      <td>60</td>\n",
       "      <td>38</td>\n",
       "      <td>0.224490</td>\n",
       "      <td>0.155556</td>\n",
       "      <td>52.898734</td>\n",
       "      <td>0.623810</td>\n",
       "      <td>8.598493</td>\n",
       "      <td>7.974684</td>\n",
       "      <td>393</td>\n",
       "      <td>630</td>\n",
       "      <td>2044</td>\n",
       "      <td>4</td>\n",
       "      <td>6.633333</td>\n",
       "    </tr>\n",
       "    <tr>\n",
       "      <th>2</th>\n",
       "      <td>39</td>\n",
       "      <td>https://insights.blackcoffer.com/what-jobs-wil...</td>\n",
       "      <td>65</td>\n",
       "      <td>38</td>\n",
       "      <td>0.262136</td>\n",
       "      <td>0.117984</td>\n",
       "      <td>77.261905</td>\n",
       "      <td>0.742268</td>\n",
       "      <td>11.135125</td>\n",
       "      <td>10.392857</td>\n",
       "      <td>648</td>\n",
       "      <td>873</td>\n",
       "      <td>3236</td>\n",
       "      <td>1</td>\n",
       "      <td>7.434135</td>\n",
       "    </tr>\n",
       "    <tr>\n",
       "      <th>3</th>\n",
       "      <td>40</td>\n",
       "      <td>https://insights.blackcoffer.com/will-machine-...</td>\n",
       "      <td>63</td>\n",
       "      <td>27</td>\n",
       "      <td>0.400000</td>\n",
       "      <td>0.128571</td>\n",
       "      <td>51.120879</td>\n",
       "      <td>0.644286</td>\n",
       "      <td>8.336593</td>\n",
       "      <td>7.692308</td>\n",
       "      <td>451</td>\n",
       "      <td>700</td>\n",
       "      <td>2322</td>\n",
       "      <td>15</td>\n",
       "      <td>6.645714</td>\n",
       "    </tr>\n",
       "    <tr>\n",
       "      <th>4</th>\n",
       "      <td>41</td>\n",
       "      <td>https://insights.blackcoffer.com/will-ai-repla...</td>\n",
       "      <td>58</td>\n",
       "      <td>23</td>\n",
       "      <td>0.432099</td>\n",
       "      <td>0.096774</td>\n",
       "      <td>75.671053</td>\n",
       "      <td>0.694146</td>\n",
       "      <td>11.707304</td>\n",
       "      <td>11.013158</td>\n",
       "      <td>581</td>\n",
       "      <td>837</td>\n",
       "      <td>2927</td>\n",
       "      <td>10</td>\n",
       "      <td>6.870968</td>\n",
       "    </tr>\n",
       "  </tbody>\n",
       "</table>\n",
       "</div>"
      ],
      "text/plain": [
       "   URL_ID                                                URL  POSITIVE SCORE  \\\n",
       "0      37  https://insights.blackcoffer.com/ai-in-healthc...              66   \n",
       "1      38  https://insights.blackcoffer.com/what-if-the-c...              60   \n",
       "2      39  https://insights.blackcoffer.com/what-jobs-wil...              65   \n",
       "3      40  https://insights.blackcoffer.com/will-machine-...              63   \n",
       "4      41  https://insights.blackcoffer.com/will-ai-repla...              58   \n",
       "\n",
       "   NEGATIVE SCORE  POLARITY SCORE  SUBJECTIVITY SCORE  AVG SENTENCE LENGTH  \\\n",
       "0              34        0.320000            0.096993           101.573333   \n",
       "1              38        0.224490            0.155556            52.898734   \n",
       "2              38        0.262136            0.117984            77.261905   \n",
       "3              27        0.400000            0.128571            51.120879   \n",
       "4              23        0.432099            0.096774            75.671053   \n",
       "\n",
       "   PERCENTAGE OF COMPLEX WORDS  FOG INDEX  AVG NUMBER OF WORDS PER SENTENCE  \\\n",
       "0                     0.745878  14.492544                         13.746667   \n",
       "1                     0.623810   8.598493                          7.974684   \n",
       "2                     0.742268  11.135125                         10.392857   \n",
       "3                     0.644286   8.336593                          7.692308   \n",
       "4                     0.694146  11.707304                         11.013158   \n",
       "\n",
       "   COMPLEX WORD COUNT  WORD COUNT  SYLLABLE PER WORD  PERSONAL PRONOUNS  \\\n",
       "0                 769        1031               3831                  0   \n",
       "1                 393         630               2044                  4   \n",
       "2                 648         873               3236                  1   \n",
       "3                 451         700               2322                 15   \n",
       "4                 581         837               2927                 10   \n",
       "\n",
       "   AVG WORD LENGTH  \n",
       "0         7.388943  \n",
       "1         6.633333  \n",
       "2         7.434135  \n",
       "3         6.645714  \n",
       "4         6.870968  "
      ]
     },
     "execution_count": 43,
     "metadata": {},
     "output_type": "execute_result"
    }
   ],
   "source": [
    "df = pd.read_csv('BlackCoffer.csv')\n",
    "\n",
    "df.head()"
   ]
  },
  {
   "cell_type": "markdown",
   "id": "627e9f4a",
   "metadata": {},
   "source": [
    "<img src=\"https://th.bing.com/th/id/OIP.RGyC_tepr9oKfo5CknPWVgAAAA?w=255&h=159&c=7&r=0&o=5&pid=1.7\" width=\"240\" height=\"360\" />\n",
    "\n",
    "\n",
    "\n",
    "\n",
    "\n",
    "\n"
   ]
  },
  {
   "cell_type": "markdown",
   "id": "12584045",
   "metadata": {},
   "source": [
    "### Distribution of Positive Score: "
   ]
  },
  {
   "cell_type": "code",
   "execution_count": 44,
   "id": "d3a222f7",
   "metadata": {},
   "outputs": [
    {
     "data": {
      "image/png": "[encoded data removed]",
      "text/plain": [
       "<Figure size 1000x600 with 1 Axes>"
      ]
     },
     "metadata": {},
     "output_type": "display_data"
    }
   ],
   "source": [
    "import matplotlib.pyplot as plt\n",
    "\n",
    "bin_size = 20\n",
    "\n",
    "bins = range(0, int(df['POSITIVE SCORE'].max()) + bin_size, bin_size)\n",
    "\n",
    "positive_scores_binned = pd.cut(df['POSITIVE SCORE'], bins)\n",
    "\n",
    "bin_counts = positive_scores_binned.value_counts().sort_index()\n",
    "\n",
    "fig,ax = plt.subplots(figsize=(10,6))\n",
    "\n",
    "ax.bar(bin_counts.index.astype(str), bin_counts.values, color=['#4287f5', '#f5428d', '#f5a442'])\n",
    "\n",
    "ax.set_xlabel('POSITIVE SCORE')\n",
    "\n",
    "ax.set_ylabel('URL_ID COUNT')\n",
    "\n",
    "ax.set_title('DISTRIBUTION OF POSITIVE SCORE')\n",
    "\n",
    "ax.spines['top'].set_visible(False)\n",
    "\n",
    "ax.spines['right'].set_visible(False)\n",
    "\n",
    "plt.show()"
   ]
  },
  {
   "cell_type": "markdown",
   "id": "3f37948f",
   "metadata": {},
   "source": [
    "### Distribution of Negative Score: "
   ]
  },
  {
   "cell_type": "code",
   "execution_count": 45,
   "id": "26a2754d",
   "metadata": {},
   "outputs": [
    {
     "data": {
      "image/png": "[encoded data removed]",
      "text/plain": [
       "<Figure size 1000x600 with 1 Axes>"
      ]
     },
     "metadata": {},
     "output_type": "display_data"
    }
   ],
   "source": [
    "bin_size =20\n",
    "\n",
    "bins = range(0,int(df['NEGATIVE SCORE'].max()) + bin_size,bin_size)\n",
    "\n",
    "negative_scores_binned = pd.cut(df['NEGATIVE SCORE'], bins) \n",
    "\n",
    "bin_counts = negative_scores_binned.value_counts().sort_index()\n",
    "\n",
    "fig, ax = plt.subplots(figsize=(10,6))\n",
    "\n",
    "ax.bar(bin_counts.index.astype(str), bin_counts.values, color =['#4287f5', '#f5428d', '#f5a442'])\n",
    "\n",
    "ax.set_xlabel('NEGATIVE SCORE')\n",
    "\n",
    "ax.set_ylabel('URL_ID COUNT')\n",
    "\n",
    "ax.set_title('DISTRIBUTION OF NEGATIVE SCORE')\n",
    "\n",
    "ax.spines['top'].set_visible(False)\n",
    "\n",
    "ax.spines['right'].set_visible(False)\n",
    "\n",
    "plt.show()"
   ]
  },
  {
   "cell_type": "code",
   "execution_count": null,
   "id": "c14758c9",
   "metadata": {},
   "outputs": [],
   "source": []
  },
  {
   "cell_type": "code",
   "execution_count": null,
   "id": "b28a265b",
   "metadata": {},
   "outputs": [],
   "source": []
  },
  {
   "cell_type": "code",
   "execution_count": null,
   "id": "e4e122c9",
   "metadata": {},
   "outputs": [],
   "source": []
  }
 ],
 "metadata": {
  "kernelspec": {
   "display_name": "Python 3 (ipykernel)",
   "language": "python",
   "name": "python3"
  },
  "language_info": {
   "codemirror_mode": {
    "name": "ipython",
    "version": 3
   },
   "file_extension": ".py",
   "mimetype": "text/x-python",
   "name": "python",
   "nbconvert_exporter": "python",
   "pygments_lexer": "ipython3",
   "version": "3.11.4"
  }
 },
 "nbformat": 4,
 "nbformat_minor": 5
}
